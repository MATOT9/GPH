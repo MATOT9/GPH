{
 "cells": [
  {
   "cell_type": "code",
   "execution_count": 1,
   "metadata": {},
   "outputs": [],
   "source": [
    "import numpy as np\n",
    "import matplotlib.pyplot as plt\n",
    "from astropy.constants import a0\n",
    "from math import pi, e"
   ]
  },
  {
   "cell_type": "code",
   "execution_count": 21,
   "metadata": {},
   "outputs": [
    {
     "name": "stdout",
     "output_type": "stream",
     "text": [
      "[1. 0. 0. ... 0. 0. 0.]\n"
     ]
    },
    {
     "data": {
      "image/png": "[encoded data removed]",
      "text/plain": [
       "<Figure size 432x288 with 1 Axes>"
      ]
     },
     "metadata": {
      "needs_background": "light"
     },
     "output_type": "display_data"
    }
   ],
   "source": [
    "def R(r):\n",
    "    v = -r/a0.value\n",
    "    v = e**v\n",
    "    return (r**4*e**v)\n",
    "\n",
    "def rmax(n,l):\n",
    "    return n**2*(1+0.5*(1-l*(l+1)/n**2))\n",
    "\n",
    "r = np.linspace(0,250,10000)\n",
    "print(e**(-r/a0.value))\n",
    "P = R(r)\n",
    "\n",
    "plt.xlim([0, 2*rmax(2,1)])\n",
    "plt.plot(r, P, \"b\")\n",
    "plt.xlabel('$r [a_0]$',fontsize=20)\n",
    "\n",
    "plt.ylabel('$R_{nl}(r)$', fontsize=20)\n",
    "\n",
    "plt.grid('True')"
   ]
  },
  {
   "cell_type": "code",
   "execution_count": null,
   "metadata": {},
   "outputs": [],
   "source": []
  }
 ],
 "metadata": {
  "interpreter": {
   "hash": "452afb311a5762a837f419d6725360245888fd4981ff64f55424859ba4207b1a"
  },
  "kernelspec": {
   "display_name": "Python 3.10.2 64-bit",
   "language": "python",
   "name": "python3"
  },
  "language_info": {
   "codemirror_mode": {
    "name": "ipython",
    "version": 3
   },
   "file_extension": ".py",
   "mimetype": "text/x-python",
   "name": "python",
   "nbconvert_exporter": "python",
   "pygments_lexer": "ipython3",
   "version": "3.10.2"
  },
  "orig_nbformat": 4
 },
 "nbformat": 4,
 "nbformat_minor": 2
}
